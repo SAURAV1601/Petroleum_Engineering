{
 "cells": [
  {
   "cell_type": "markdown",
   "metadata": {},
   "source": [
    "*The codes were developed on Windows 10, and were not tested on other machines. Anaconda 5.2.0 is chosen as a Python interpreter.*\n",
    "\n",
    "# Probability Density and Cumulative Distribution Function\n",
    "\n",
    "This notebook introduces the concept and methodology of implementing CDF plotting for statistical analysis.\n",
    "\n",
    "<div class=\"alert alert-info\">\n",
    "<h4>Disclaimer</h4><p>The information on this page is based on the petroleum engineering class at the *University of Texas at Austin*, **Introduction to Geostatistics** by **Dr. Michael Pyrcz** on Fall 2018. This notebook is a work of a petrolem engineering student, <b>Eric Kim</b>.\n",
    "</div>\n",
    "# 0. Sample Data Set\n",
    "\n",
    "The provided spreadsheet **PoroPermSampleData.xlsx** includes sample porosity and permeability data that will be used through out this notebook"
   ]
  },
  {
   "cell_type": "code",
   "execution_count": 5,
   "metadata": {},
   "outputs": [
    {
     "name": "stdout",
     "output_type": "stream",
     "text": [
      "1\n"
     ]
    }
   ],
   "source": [
    "print(1)"
   ]
  },
  {
   "cell_type": "code",
   "execution_count": null,
   "metadata": {},
   "outputs": [],
   "source": []
  }
 ],
 "metadata": {
  "kernelspec": {
   "display_name": "Python 3",
   "language": "python",
   "name": "python3"
  },
  "language_info": {
   "codemirror_mode": {
    "name": "ipython",
    "version": 3
   },
   "file_extension": ".py",
   "mimetype": "text/x-python",
   "name": "python",
   "nbconvert_exporter": "python",
   "pygments_lexer": "ipython3",
   "version": "3.6.5"
  }
 },
 "nbformat": 4,
 "nbformat_minor": 2
}
