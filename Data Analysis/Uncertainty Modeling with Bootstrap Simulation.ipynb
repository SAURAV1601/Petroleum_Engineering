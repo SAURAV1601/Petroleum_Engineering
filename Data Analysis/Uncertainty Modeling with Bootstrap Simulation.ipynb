{
 "cells": [
  {
   "cell_type": "markdown",
   "metadata": {},
   "source": [
    "*The codes were developed on Windows 10, and were not tested on other machines. Anaconda 5.2.0 is chosen as a Python interpreter.*\n",
    "\n",
    "This notebook introduces the concept and methodology of implementing Bootstrap Simulation.\n",
    "\n",
    "# Bootstrap Simulation\n",
    "\n",
    "> **Bootstrap Simulation** is a non-parametric statistical technique to resample from known samples to estimate uncertainty in summary statistics. When there are small, limited number of samples, it gives a more accurate forecast model than directly obtaining a forecast model from the limited sample pool. It is non-parametric because it does not require any prior knowledge of the distribution (shape, mean, standard devation, etc..).\n",
    "\n",
    "Bootstrap simulation can be used to **obtain confidence interval in any statistics:**\n",
    "\n",
    "It can provide confidence interval in virtually any statistical values (mean, standard deviation, skewness, kurtosis, P10, P90, etc..), when the formula to calculate them is unknown. For example, in order to calculate uncertainty in rock porosity, multiple random sampling , \n",
    "\n",
    "\n",
    "Bootstrapping is tied to Monte-Carlo simulation in a sense that it is similar to performing Monte-Carlo simulation many times (recall that Monte-Carlo simulation is performing *random sampling* many times).\n",
    "\n",
    "It is very useful when we do not have any previous knowledge of the distribution, and therefore cannot assume the distribution shape required to perform random sampling. Recall that *Monte-Carlo simulation* requires previous knowledge of the distribution to collect randomly sampled data to draw an uncertainty model. On the other hand, Bootstrap simulation can work out the magic because it does not assume anything about the distribution. You do not need to know the shape, average, standard deviation, or skewness of the distribution. \n",
    "\n",
    "Think of Bootstrapping has performing \n",
    "\n",
    "Bootstrap simulation can be used to **improve forecast model when there are limited, small number of data:**"
   ]
  },
  {
   "cell_type": "code",
   "execution_count": null,
   "metadata": {},
   "outputs": [],
   "source": []
  }
 ],
 "metadata": {
  "kernelspec": {
   "display_name": "Python 3",
   "language": "python",
   "name": "python3"
  },
  "language_info": {
   "codemirror_mode": {
    "name": "ipython",
    "version": 3
   },
   "file_extension": ".py",
   "mimetype": "text/x-python",
   "name": "python",
   "nbconvert_exporter": "python",
   "pygments_lexer": "ipython3",
   "version": "3.6.5"
  }
 },
 "nbformat": 4,
 "nbformat_minor": 2
}
