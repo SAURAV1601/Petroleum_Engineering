{
 "cells": [
  {
   "cell_type": "markdown",
   "metadata": {},
   "source": [
    "*The codes were developed on Windows 10, and were not tested on other machines. Anaconda 5.2.0 is chosen as a Python interpreter.*\n",
    "\n",
    "This notebook introduces the concept and methodology of implementing Bootstrap Simulation.\n",
    "\n",
    "# Bootstrap Simulation\n",
    "\n",
    "> **Bootstrap Simulation** is a technique to understand the impact of risk and uncertainty in \n",
    "finance, engineering, supply chain, and virtually anything. A Monte Carlo simulator helps\n",
    "one to visualize most or all of the potential outcomes to have a better idea regaring the\n",
    "risk of a decision.\n",
    "\n",
    "Based on historical data, expertise in the field, or past experience, you can draw an estimate of a population. While this estimate is useful for developing a model, it contains some inherent uncertainty and risk, because it's an estimate of an unknown value. In a financial market, you might know the distribution of possible values through the mean and standard deviation of returns. By using a range of possible values, instead of a single guess, you can create a more realistic picture of what might happen in the future. "
   ]
  },
  {
   "cell_type": "code",
   "execution_count": null,
   "metadata": {},
   "outputs": [],
   "source": []
  }
 ],
 "metadata": {
  "kernelspec": {
   "display_name": "Python 3",
   "language": "python",
   "name": "python3"
  },
  "language_info": {
   "codemirror_mode": {
    "name": "ipython",
    "version": 3
   },
   "file_extension": ".py",
   "mimetype": "text/x-python",
   "name": "python",
   "nbconvert_exporter": "python",
   "pygments_lexer": "ipython3",
   "version": "3.6.5"
  }
 },
 "nbformat": 4,
 "nbformat_minor": 2
}
