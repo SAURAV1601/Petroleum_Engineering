{
 "cells": [
  {
   "cell_type": "markdown",
   "metadata": {},
   "source": [
    "*The codes were developed on Windows 10, and were not tested on other machines. Anaconda 5.2.0 is chosen as a Python interpreter.*\n",
    "\n",
    "# Outlier Detection and Correction\n",
    "\n",
    "This notebook introduces the concept and methodology of implementing CDF plotting for statistical analysis.\n",
    "\n",
    "<br>\n",
    "<div class=\"alert alert-info\">\n",
    "<h4>Disclaimer</h4><p>The information on this page is based on the petroleum engineering class taught at the <i>University of Texas at Austin</i>, <b>Introduction to Geostatistics</b> by <b>Dr. Michael Pyrcz</b> on Fall 2018. This notebook is a work of a petrolem engineering student, <b>Eric Kim</b>.\n",
    "</div>\n",
    "\n",
    "# 0. Sample Data Set\n",
    "\n",
    "The provided spreadsheet **PoroPermSampleData.xlsx** includes sample permeability  data that will be used through out this notebook"
   ]
  },
  {
   "cell_type": "code",
   "execution_count": 10,
   "metadata": {},
   "outputs": [
    {
     "data": {
      "text/html": [
       "<div>\n",
       "<style scoped>\n",
       "    .dataframe tbody tr th:only-of-type {\n",
       "        vertical-align: middle;\n",
       "    }\n",
       "\n",
       "    .dataframe tbody tr th {\n",
       "        vertical-align: top;\n",
       "    }\n",
       "\n",
       "    .dataframe thead th {\n",
       "        text-align: right;\n",
       "    }\n",
       "</style>\n",
       "<table border=\"1\" class=\"dataframe\">\n",
       "  <thead>\n",
       "    <tr style=\"text-align: right;\">\n",
       "      <th></th>\n",
       "      <th>Depth</th>\n",
       "      <th>Permeability (mD)</th>\n",
       "    </tr>\n",
       "  </thead>\n",
       "  <tbody>\n",
       "    <tr>\n",
       "      <th>0</th>\n",
       "      <td>0.25</td>\n",
       "      <td>265.528738</td>\n",
       "    </tr>\n",
       "    <tr>\n",
       "      <th>1</th>\n",
       "      <td>0.50</td>\n",
       "      <td>116.891220</td>\n",
       "    </tr>\n",
       "    <tr>\n",
       "      <th>2</th>\n",
       "      <td>0.75</td>\n",
       "      <td>136.920016</td>\n",
       "    </tr>\n",
       "    <tr>\n",
       "      <th>3</th>\n",
       "      <td>1.00</td>\n",
       "      <td>216.668629</td>\n",
       "    </tr>\n",
       "    <tr>\n",
       "      <th>4</th>\n",
       "      <td>1.25</td>\n",
       "      <td>131.594114</td>\n",
       "    </tr>\n",
       "  </tbody>\n",
       "</table>\n",
       "</div>"
      ],
      "text/plain": [
       "   Depth  Permeability (mD)\n",
       "0   0.25         265.528738\n",
       "1   0.50         116.891220\n",
       "2   0.75         136.920016\n",
       "3   1.00         216.668629\n",
       "4   1.25         131.594114"
      ]
     },
     "execution_count": 10,
     "metadata": {},
     "output_type": "execute_result"
    }
   ],
   "source": [
    "import pandas as pd\n",
    "import numpy as np\n",
    "import matplotlib.pyplot as plt\n",
    "%matplotlib notebook\n",
    "\n",
    "data = pd.read_excel('PoroPermSampleData.xlsx', sheet_name='Sheet1')\n",
    "permeability = np.array(data['Permeability (mD)'])\n",
    "depth = np.array(data['Depth'])\n",
    "\n",
    "data.iloc[:, [0, 2]].head()"
   ]
  },
  {
   "cell_type": "markdown",
   "metadata": {},
   "source": [
    "# 1. Purpose - What Do We Want To Achieve?\n",
    "\n",
    "> **1. Detect outliers by defining upper & lower fence**\n",
    "\n",
    "> **2. Perform actions on outliers - remove, transform, or separate**"
   ]
  },
  {
   "cell_type": "markdown",
   "metadata": {},
   "source": [
    "# 2. Detect Outliers\n",
    "\n",
    "Two methods can be used detecting outliers:\n",
    "\n",
    "> **Standard Deviation Method** - if data is Gaussian distributed\n",
    "\n",
    "> **Interquartile (IQR) Method** - if data is not Gaussian enough\n",
    "\n",
    "## 2.1 Standard Deviation Method\n",
    "## 2.2 Interquartile (IQR) Method\n",
    "\n",
    "Not all data is Gaussian or Gaussian enough to apply *Standard Deviation Method*. In that case, *Interquartile (IQR) Method* can be used to detect outliers.\n",
    "\n",
    "<p><center>IQR = P75 - P25</center></p>\n",
    "\n",
    "<p><center>Lower Fence = P25 - 1.5 $\\times$ IQR</center></p>\n",
    "\n",
    "<p><center>Upper Fence = P75 + 1.5 $\\times$ IQR</center></p>\n",
    "\n",
    "First, the values for P75 and P25 must be calculated. To achieve that, **numpy.percentile** will be used. [Numpy Documentation](https://docs.scipy.org/doc/numpy-1.15.1/reference/generated/numpy.percentile.html)"
   ]
  },
  {
   "cell_type": "code",
   "execution_count": 24,
   "metadata": {},
   "outputs": [
    {
     "data": {
      "text/html": [
       "<div>\n",
       "<style scoped>\n",
       "    .dataframe tbody tr th:only-of-type {\n",
       "        vertical-align: middle;\n",
       "    }\n",
       "\n",
       "    .dataframe tbody tr th {\n",
       "        vertical-align: top;\n",
       "    }\n",
       "\n",
       "    .dataframe thead th {\n",
       "        text-align: right;\n",
       "    }\n",
       "</style>\n",
       "<table border=\"1\" class=\"dataframe\">\n",
       "  <thead>\n",
       "    <tr style=\"text-align: right;\">\n",
       "      <th></th>\n",
       "      <th>P75</th>\n",
       "      <th>P25</th>\n",
       "      <th>IQR</th>\n",
       "    </tr>\n",
       "  </thead>\n",
       "  <tbody>\n",
       "    <tr>\n",
       "      <th>Permeability (mD)</th>\n",
       "      <td>206.6</td>\n",
       "      <td>104.0</td>\n",
       "      <td>102.6</td>\n",
       "    </tr>\n",
       "  </tbody>\n",
       "</table>\n",
       "</div>"
      ],
      "text/plain": [
       "                     P75    P25    IQR\n",
       "Permeability (mD)  206.6  104.0  102.6"
      ]
     },
     "execution_count": 24,
     "metadata": {},
     "output_type": "execute_result"
    }
   ],
   "source": [
    "P75 = np.percentile(permeability, 75)\n",
    "P25 = np.percentile(permeability, 25)\n",
    "IQR = P75 - P25\n",
    "\n",
    "pd.DataFrame(data=np.array(np.round([P75, P25, IQR], 1)).T, index=['P75', 'P25', 'IQR'], columns=['Permeability (mD)']).T"
   ]
  },
  {
   "cell_type": "markdown",
   "metadata": {},
   "source": [
    "The result can also be graphically obtained. "
   ]
  },
  {
   "cell_type": "code",
   "execution_count": null,
   "metadata": {},
   "outputs": [],
   "source": [
    "# "
   ]
  }
 ],
 "metadata": {
  "kernelspec": {
   "display_name": "Python 3",
   "language": "python",
   "name": "python3"
  },
  "language_info": {
   "codemirror_mode": {
    "name": "ipython",
    "version": 3
   },
   "file_extension": ".py",
   "mimetype": "text/x-python",
   "name": "python",
   "nbconvert_exporter": "python",
   "pygments_lexer": "ipython3",
   "version": "3.6.5"
  }
 },
 "nbformat": 4,
 "nbformat_minor": 2
}
